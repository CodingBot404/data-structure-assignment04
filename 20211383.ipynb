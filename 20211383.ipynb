{
  "nbformat": 4,
  "nbformat_minor": 0,
  "metadata": {
    "colab": {
      "provenance": []
    },
    "kernelspec": {
      "name": "python3",
      "display_name": "Python 3"
    },
    "language_info": {
      "name": "python"
    }
  },
  "cells": [
    {
      "cell_type": "markdown",
      "source": [
        "## **# LeetCode 225.**"
      ],
      "metadata": {
        "id": "K44lkTVQCjmB"
      }
    },
    {
      "cell_type": "code",
      "source": [
        "class MyQueue:\n",
        "    def __init__(self):\n",
        "        self.in_stack = []\n",
        "        self.out_stack = []\n",
        "\n",
        "    def push(self, x: int) -> None:\n",
        "        self.in_stack.append(x)\n",
        "\n",
        "    def pop(self) -> int:\n",
        "        self.peek()  # out_stack이 비어 있으면 채움\n",
        "        return self.out_stack.pop()\n",
        "\n",
        "    def peek(self) -> int:\n",
        "        if not self.out_stack:\n",
        "            while self.in_stack:\n",
        "                self.out_stack.append(self.in_stack.pop())\n",
        "        return self.out_stack[-1]\n",
        "\n",
        "    def empty(self) -> bool:\n",
        "        return not self.in_stack and not self.out_stack"
      ],
      "metadata": {
        "id": "xPgu30QhIGEz"
      },
      "execution_count": null,
      "outputs": []
    },
    {
      "cell_type": "markdown",
      "source": [
        "#  # LeetCode 232."
      ],
      "metadata": {
        "id": "nEzgBBV5C9V0"
      }
    },
    {
      "cell_type": "code",
      "source": [
        "from collections import deque\n",
        "\n",
        "class MyStack:\n",
        "    def __init__(self):\n",
        "        self.q = deque()\n",
        "\n",
        "    def push(self, x: int) -> None:\n",
        "        self.q.append(x)\n",
        "        for _ in range(len(self.q) - 1):\n",
        "            self.q.append(self.q.popleft())\n",
        "\n",
        "    def pop(self) -> int:\n",
        "        return self.q.popleft()\n",
        "\n",
        "    def top(self) -> int:\n",
        "        return self.q[0]\n",
        "\n",
        "    def empty(self) -> bool:\n",
        "        return not self.q"
      ],
      "metadata": {
        "id": "sNXPyVNiDCEr"
      },
      "execution_count": null,
      "outputs": []
    },
    {
      "cell_type": "markdown",
      "source": [
        " # 큐 연습문제 p200 - p202."
      ],
      "metadata": {
        "id": "o7waK6epDGn2"
      }
    },
    {
      "cell_type": "code",
      "source": [
        "# 1.\n",
        "\n",
        "class ListQueue:\n",
        "    def __init__(self):\n",
        "        self.__queue = []\n",
        "\n",
        "    def enqueue(self, x):  # rear → 리스트 앞\n",
        "        self.__queue.insert(0, x)\n",
        "\n",
        "    def dequeue(self):  # front → 리스트 뒤\n",
        "        if self.isEmpty():\n",
        "            return None\n",
        "        return self.__queue.pop()\n",
        "\n",
        "    def front(self):\n",
        "        if self.isEmpty():\n",
        "            return None\n",
        "        return self.__queue[-1]\n",
        "\n",
        "    def isEmpty(self) -> bool:\n",
        "        return len(self.__queue) == 0\n",
        "\n",
        "    def dequeueAll(self):\n",
        "        self.__queue.clear()"
      ],
      "metadata": {
        "id": "DNzptaPfDpn6"
      },
      "execution_count": null,
      "outputs": []
    },
    {
      "cell_type": "code",
      "source": [
        "# 2.\n",
        "\n",
        "def is_member(w, W):\n",
        "    return w in W\n",
        "\n",
        "# 예시\n",
        "W = {\"apple\", \"banana\", \"cherry\"}\n",
        "print(is_member(\"banana\", W))  # True\n",
        "print(is_member(\"grape\", W))   # False"
      ],
      "metadata": {
        "id": "mvSheUjYFFrH"
      },
      "execution_count": null,
      "outputs": []
    },
    {
      "cell_type": "code",
      "source": [
        "# 3.\n",
        "\n",
        "class Node:\n",
        "    def __init__(self, item):\n",
        "        self.data = item\n",
        "        self.link = None\n",
        "\n",
        "class LinkedQueue:\n",
        "    def __init__(self):\n",
        "        self.front = self.rear = None\n",
        "\n",
        "    def isEmpty(self):\n",
        "        return self.front is None\n",
        "\n",
        "    def enqueue(self, item):\n",
        "        node = Node(item)\n",
        "        if self.isEmpty():\n",
        "            self.front = self.rear = node\n",
        "        else:\n",
        "            self.rear.link = node\n",
        "            self.rear = node\n",
        "\n",
        "    def dequeue(self):\n",
        "        if self.isEmpty():\n",
        "            return None\n",
        "        item = self.front.data\n",
        "        self.front = self.front.link\n",
        "        if self.front is None:\n",
        "            self.rear = None\n",
        "        return item\n",
        "\n",
        "    def copy(self):\n",
        "        new_q = LinkedQueue()\n",
        "        current = self.front\n",
        "        while current:\n",
        "            new_q.enqueue(current.data)\n",
        "            current = current.link\n",
        "        return new_q"
      ],
      "metadata": {
        "id": "qHYCe135Jveb"
      },
      "execution_count": null,
      "outputs": []
    },
    {
      "cell_type": "code",
      "source": [
        "# 4.\n",
        "\n",
        "class StackUsingTwoQueues:\n",
        "    def __init__(self):\n",
        "        self.q1 = []\n",
        "        self.q2 = []\n",
        "\n",
        "    def push(self, item):\n",
        "        self.q1.append(item)\n",
        "\n",
        "    def pop(self):\n",
        "        if not self.q1:\n",
        "            return None\n",
        "        while len(self.q1) > 1:\n",
        "            self.q2.append(self.q1.pop(0))\n",
        "        popped = self.q1.pop(0)\n",
        "        self.q1, self.q2 = self.q2, self.q1\n",
        "        return popped"
      ],
      "metadata": {
        "id": "T9IzdUIAJxCa"
      },
      "execution_count": null,
      "outputs": []
    },
    {
      "cell_type": "code",
      "source": [
        "# 5.\n",
        "\n",
        "class QueueUsingTwoStacks:\n",
        "    def __init__(self):\n",
        "        self.s1 = []\n",
        "        self.s2 = []\n",
        "\n",
        "    def enqueue(self, item):\n",
        "        self.s1.append(item)\n",
        "\n",
        "    def dequeue(self):\n",
        "        if not self.s2:\n",
        "            while self.s1:\n",
        "                self.s2.append(self.s1.pop())\n",
        "        if not self.s2:\n",
        "            return None\n",
        "        return self.s2.pop()"
      ],
      "metadata": {
        "id": "4b8XFzWPNCqB"
      },
      "execution_count": null,
      "outputs": []
    },
    {
      "cell_type": "code",
      "source": [
        "# 6.\n",
        "\n",
        "enqueue(x) → list.append(x) → O(1)\n",
        "dequeue() → list.pop(0) → O(n) (앞에서 삭제하면 전체 요소 이동 필요)"
      ],
      "metadata": {
        "id": "w3lcg_ZzND1a"
      },
      "execution_count": null,
      "outputs": []
    },
    {
      "cell_type": "code",
      "source": [
        "# 7.\n",
        "\n",
        "# 연결 리스트의 경우:\n",
        "enqueue → O(1)\n",
        "dequeue → O(1)\n",
        "# 배열(리스트)의 경우:\n",
        "enqueue → O(1)\n",
        "dequeue → O(n) (앞에서 삭제 시 이동 발생)"
      ],
      "metadata": {
        "id": "WpGr3imiNIvW"
      },
      "execution_count": null,
      "outputs": []
    },
    {
      "cell_type": "code",
      "source": [
        "# 8.\n",
        "\n",
        "class Deque:\n",
        "    def __init__(self):\n",
        "        self.__queue = []\n",
        "\n",
        "    def addFront(self, item):\n",
        "        self.__queue.insert(0, item)\n",
        "\n",
        "    def addRear(self, item):\n",
        "        self.__queue.append(item)\n",
        "\n",
        "    def deleteFront(self):\n",
        "        if self.isEmpty():\n",
        "            return None\n",
        "        return self.__queue.pop(0)\n",
        "\n",
        "    def deleteRear(self):\n",
        "        if self.isEmpty():\n",
        "            return None\n",
        "        return self.__queue.pop()\n",
        "\n",
        "    def isEmpty(self):\n",
        "        return len(self.__queue) == 0\n",
        "\n",
        "    def clear(self):\n",
        "        self.__queue.clear()\n",
        "\n",
        "    def printDeque(self):\n",
        "        print(\"Deque from front:\", end=\" \")\n",
        "        for item in self.__queue:\n",
        "            print(item, end=\" \")\n",
        "        print()\n"
      ],
      "metadata": {
        "id": "6WMDYZdqNKDN"
      },
      "execution_count": null,
      "outputs": []
    }
  ]
}